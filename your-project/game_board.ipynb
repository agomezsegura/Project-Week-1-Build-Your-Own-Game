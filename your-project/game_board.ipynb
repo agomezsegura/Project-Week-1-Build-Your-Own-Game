{
 "cells": [
  {
   "cell_type": "code",
   "execution_count": 4,
   "metadata": {},
   "outputs": [],
   "source": [
    "import pygame\n",
    "from pgu import text\n",
    "\n",
    "class GameBoardCell(pygame.sprite.Sprite):\n",
    "    def __init__(self,pos,mark):\n",
    "        super().__init__()\n",
    "        self.image = pygame.image.load(mark+'.png')\n",
    "        self.rect = self.image.get_rect()\n",
    "        self.pos = pos\n",
    "        self.mark = mark\n",
    "\n",
    "#    def update(self):\n",
    "#        if self.click:\n",
    "#            self.empty = False\n",
    "\n",
    "class GameBoard(pygame.sprite.Group):\n",
    "    def __init__(self):\n",
    "        super().__init__()\n",
    "        self.matrix = ['empty', 'empty', 'empty','empty','empty','empty',\n",
    "                       'empty','empty','empty']\n",
    "        self.positions = ((125,125),(375,125),(625,125),(125,375),(375,375),(625,375),(125,625),(375,625),(625,625))\n",
    "    \n",
    "    def positioning(self):\n",
    "        for cell in self:\n",
    "            cell.rect.center = self.positions[cell.pos]\n",
    "\n",
    "class Button(pygame.sprite.Sprite):\n",
    "    def __init__(self,im,pos):\n",
    "        super().__init__()\n",
    "        self.image=pygame.image.load(im)\n",
    "        self.rect=self.image.get_rect()\n",
    "        self.rect.center=pos\n",
    "        self.click = False"
   ]
  }
 ],
 "metadata": {
  "kernelspec": {
   "display_name": "Python 3",
   "language": "python",
   "name": "python3"
  },
  "language_info": {
   "codemirror_mode": {
    "name": "ipython",
    "version": 3
   },
   "file_extension": ".py",
   "mimetype": "text/x-python",
   "name": "python",
   "nbconvert_exporter": "python",
   "pygments_lexer": "ipython3",
   "version": "3.8.3"
  }
 },
 "nbformat": 4,
 "nbformat_minor": 4
}
