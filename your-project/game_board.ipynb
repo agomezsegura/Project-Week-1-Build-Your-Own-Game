{
 "cells": [
  {
   "cell_type": "code",
   "execution_count": 1,
   "metadata": {},
   "outputs": [
    {
     "name": "stdout",
     "output_type": "stream",
     "text": [
      "pygame 1.9.6\n",
      "Hello from the pygame community. https://www.pygame.org/contribute.html\n"
     ]
    }
   ],
   "source": [
    "import pygame\n",
    "from pgu import text\n",
    "\n",
    "class GameBoardCell(pygame.sprite.Sprite):\n",
    "    def __init__(self,pos,mark):\n",
    "        super().__init__()\n",
    "        self.image = pygame.image.load(mark+'.png')\n",
    "        self.rect = self.image.get_rect()\n",
    "        self.rect.center = pos[0]\n",
    "        self.num = pos[1]\n",
    "        self.mark = mark\n",
    "\n",
    "#    def update(self):\n",
    "#        if self.click:\n",
    "#            self.empty = False\n",
    "\n",
    "class GameBoard(pygame.sprite.Group):\n",
    "    def __init__(self):\n",
    "        super().__init__()\n",
    "        self.matrix = ['empty', 'empty', 'empty','empty','empty','empty',\n",
    "                       'empty','empty','empty']"
   ]
  }
 ],
 "metadata": {
  "kernelspec": {
   "display_name": "Python 3",
   "language": "python",
   "name": "python3"
  },
  "language_info": {
   "codemirror_mode": {
    "name": "ipython",
    "version": 3
   },
   "file_extension": ".py",
   "mimetype": "text/x-python",
   "name": "python",
   "nbconvert_exporter": "python",
   "pygments_lexer": "ipython3",
   "version": "3.8.3"
  }
 },
 "nbformat": 4,
 "nbformat_minor": 4
}
